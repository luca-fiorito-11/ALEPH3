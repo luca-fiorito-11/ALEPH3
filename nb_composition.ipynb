{
 "cells": [
  {
   "cell_type": "markdown",
   "metadata": {},
   "source": [
    "# Working with nuclide vectors"
   ]
  },
  {
   "cell_type": "markdown",
   "metadata": {},
   "source": [
    "The definition of a *material card* in MCNP requires the specification of the nuclide vector either in terms of atomic or weight fractions.\n",
    "The convertion from one to the other is automatically performed by MNCP and printed in output.\n",
    "\n",
    "The fractions do not need to be normalized.\n",
    "MCNP automatically performs the normalization to the density value specified for that material --- once again either in mass or atoms in a unit volume."
   ]
  },
  {
   "cell_type": "markdown",
   "metadata": {},
   "source": [
    "When it comes to the analysis and postprocessing of the MCNP inputs, running MCNP with the mere task of performing the normalization or the unit conversion of the nuclide vector is an overkill."
   ]
  },
  {
   "cell_type": "markdown",
   "metadata": {},
   "source": [
    "Below we describe ALEPH object `aleph.Composition` that solves such problem without the need of MCNP. In addition, many more interesting features were included."
   ]
  },
  {
   "cell_type": "code",
   "execution_count": 1,
   "metadata": {},
   "outputs": [],
   "source": [
    "import pytest\n",
    "\n",
    "import pandas as pd\n",
    "import numpy as np\n",
    "\n",
    "from IPython.core.interactiveshell import InteractiveShell\n",
    "InteractiveShell.ast_node_interactivity = \"all\""
   ]
  },
  {
   "cell_type": "code",
   "execution_count": 2,
   "metadata": {},
   "outputs": [],
   "source": [
    "import matplotlib.pyplot as plt\n",
    "import seaborn as sns\n",
    "\n",
    "sns.set_context(\"notebook\")\n",
    "\n",
    "%matplotlib notebook"
   ]
  },
  {
   "cell_type": "code",
   "execution_count": 3,
   "metadata": {},
   "outputs": [
    {
     "name": "stderr",
     "output_type": "stream",
     "text": [
      "WARNING:  could not find 'matlab' package\n",
      "WARNING:  could not find 'mcpl' package\n"
     ]
    }
   ],
   "source": [
    "import aleph"
   ]
  },
  {
   "cell_type": "markdown",
   "metadata": {},
   "source": [
    "## What is a `aleph.Composition` object?"
   ]
  },
  {
   "cell_type": "markdown",
   "metadata": {},
   "source": [
    "A `aleph` object `Composition` was developed to store the density fractions of a given material in a tabular format indexed by the nuclide ZAM identifiers."
   ]
  },
  {
   "cell_type": "markdown",
   "metadata": {},
   "source": [
    "> $ZAM  = Z \\times 10000 + A \\times 10 +M$, where $A$, $Z$ and $M$ are repectively the number of nucleons, the charge number and the metastate identifier."
   ]
  },
  {
   "cell_type": "markdown",
   "metadata": {},
   "source": [
    "This object provides methods to:\n",
    "\n",
    "- convert the compositions from atomic to weight fractions, and the other way around\n",
    "- renormalize the vector to a given weight or atomic density\n",
    "- deplete the material composition"
   ]
  },
  {
   "cell_type": "markdown",
   "metadata": {},
   "source": [
    "## Initialization"
   ]
  },
  {
   "cell_type": "markdown",
   "metadata": {},
   "source": [
    "The initialization of a `aleph.Composition` instance is identical to that of `pandas.Series`. For instance, in the example below we use a dictionary --- with ZAM identifiers as keys and atomic fractions as values --- to initialize a `aleph.Composition` into variable `nd`."
   ]
  },
  {
   "cell_type": "code",
   "execution_count": 4,
   "metadata": {},
   "outputs": [
    {
     "name": "stderr",
     "output_type": "stream",
     "text": [
      "INFO:  NumExpr defaulting to 4 threads.\n"
     ]
    },
    {
     "data": {
      "text/plain": [
       "942390   3.70470e-02\n",
       "942400   1.75120e-03\n",
       "942410   1.16740e-04\n",
       "310690   8.26605e-04\n",
       "310710   5.48595e-04\n",
       "dtype: float64"
      ]
     },
     "execution_count": 4,
     "metadata": {},
     "output_type": "execute_result"
    }
   ],
   "source": [
    "atomic_fractions = {\n",
    "    942390: 0.037047,\n",
    "    942400: 0.0017512,\n",
    "    942410: 0.00011674,\n",
    "    310690: 8.26605E-04,\n",
    "    310710: 5.48595E-04,\n",
    "}\n",
    "nd = aleph.Composition(atomic_fractions)\n",
    "nd"
   ]
  },
  {
   "cell_type": "markdown",
   "metadata": {},
   "source": [
    "The initlization process understands that the dictionary values that are passed as arguments are atomic fractions because of their positive sign."
   ]
  },
  {
   "cell_type": "markdown",
   "metadata": {},
   "source": [
    "> Atomic fractions are in at/b/cm."
   ]
  },
  {
   "cell_type": "markdown",
   "metadata": {},
   "source": [
    "If we were to pass weight fractions we should adopt the MCNP convention and use negative signs. "
   ]
  },
  {
   "cell_type": "code",
   "execution_count": 5,
   "metadata": {},
   "outputs": [
    {
     "data": {
      "text/plain": [
       "942390   -3.65003e+02\n",
       "942400   -1.73259e+01\n",
       "942410   -1.15982e+00\n",
       "310690   -2.34817e+00\n",
       "310710   -1.60361e+00\n",
       "dtype: float64"
      ]
     },
     "execution_count": 5,
     "metadata": {},
     "output_type": "execute_result"
    }
   ],
   "source": [
    "weight_fractions = {\n",
    "    942390: -365.003298,\n",
    "    942400: -17.325881,\n",
    "    942410: -1.159817,\n",
    "    310690: -2.348167,\n",
    "    310710: -1.603613,\n",
    "}\n",
    "aleph.Composition(weight_fractions)"
   ]
  },
  {
   "cell_type": "markdown",
   "metadata": {},
   "source": [
    "> Weight fractions are in g/cm3."
   ]
  },
  {
   "cell_type": "markdown",
   "metadata": {},
   "source": [
    "### But where are the data?"
   ]
  },
  {
   "cell_type": "markdown",
   "metadata": {},
   "source": [
    "The actual series is contained in the source attribute `data`, in agreement with the other `aleph` classes."
   ]
  },
  {
   "cell_type": "code",
   "execution_count": 6,
   "metadata": {},
   "outputs": [
    {
     "data": {
      "text/plain": [
       "942390   3.70470e-02\n",
       "942400   1.75120e-03\n",
       "942410   1.16740e-04\n",
       "310690   8.26605e-04\n",
       "310710   5.48595e-04\n",
       "dtype: float64"
      ]
     },
     "execution_count": 6,
     "metadata": {},
     "output_type": "execute_result"
    }
   ],
   "source": [
    "nd.data"
   ]
  },
  {
   "cell_type": "markdown",
   "metadata": {},
   "source": [
    "Being a `pandas.Series`, attribute `data` gives access to many data analysis and plotting methods."
   ]
  },
  {
   "cell_type": "code",
   "execution_count": 7,
   "metadata": {},
   "outputs": [
    {
     "data": {
      "application/javascript": [
       "/* Put everything inside the global mpl namespace */\n",
       "/* global mpl */\n",
       "window.mpl = {};\n",
       "\n",
       "mpl.get_websocket_type = function () {\n",
       "    if (typeof WebSocket !== 'undefined') {\n",
       "        return WebSocket;\n",
       "    } else if (typeof MozWebSocket !== 'undefined') {\n",
       "        return MozWebSocket;\n",
       "    } else {\n",
       "        alert(\n",
       "            'Your browser does not have WebSocket support. ' +\n",
       "                'Please try Chrome, Safari or Firefox ≥ 6. ' +\n",
       "                'Firefox 4 and 5 are also supported but you ' +\n",
       "                'have to enable WebSockets in about:config.'\n",
       "        );\n",
       "    }\n",
       "};\n",
       "\n",
       "mpl.figure = function (figure_id, websocket, ondownload, parent_element) {\n",
       "    this.id = figure_id;\n",
       "\n",
       "    this.ws = websocket;\n",
       "\n",
       "    this.supports_binary = this.ws.binaryType !== undefined;\n",
       "\n",
       "    if (!this.supports_binary) {\n",
       "        var warnings = document.getElementById('mpl-warnings');\n",
       "        if (warnings) {\n",
       "            warnings.style.display = 'block';\n",
       "            warnings.textContent =\n",
       "                'This browser does not support binary websocket messages. ' +\n",
       "                'Performance may be slow.';\n",
       "        }\n",
       "    }\n",
       "\n",
       "    this.imageObj = new Image();\n",
       "\n",
       "    this.context = undefined;\n",
       "    this.message = undefined;\n",
       "    this.canvas = undefined;\n",
       "    this.rubberband_canvas = undefined;\n",
       "    this.rubberband_context = undefined;\n",
       "    this.format_dropdown = undefined;\n",
       "\n",
       "    this.image_mode = 'full';\n",
       "\n",
       "    this.root = document.createElement('div');\n",
       "    this.root.setAttribute('style', 'display: inline-block');\n",
       "    this._root_extra_style(this.root);\n",
       "\n",
       "    parent_element.appendChild(this.root);\n",
       "\n",
       "    this._init_header(this);\n",
       "    this._init_canvas(this);\n",
       "    this._init_toolbar(this);\n",
       "\n",
       "    var fig = this;\n",
       "\n",
       "    this.waiting = false;\n",
       "\n",
       "    this.ws.onopen = function () {\n",
       "        fig.send_message('supports_binary', { value: fig.supports_binary });\n",
       "        fig.send_message('send_image_mode', {});\n",
       "        if (fig.ratio !== 1) {\n",
       "            fig.send_message('set_dpi_ratio', { dpi_ratio: fig.ratio });\n",
       "        }\n",
       "        fig.send_message('refresh', {});\n",
       "    };\n",
       "\n",
       "    this.imageObj.onload = function () {\n",
       "        if (fig.image_mode === 'full') {\n",
       "            // Full images could contain transparency (where diff images\n",
       "            // almost always do), so we need to clear the canvas so that\n",
       "            // there is no ghosting.\n",
       "            fig.context.clearRect(0, 0, fig.canvas.width, fig.canvas.height);\n",
       "        }\n",
       "        fig.context.drawImage(fig.imageObj, 0, 0);\n",
       "    };\n",
       "\n",
       "    this.imageObj.onunload = function () {\n",
       "        fig.ws.close();\n",
       "    };\n",
       "\n",
       "    this.ws.onmessage = this._make_on_message_function(this);\n",
       "\n",
       "    this.ondownload = ondownload;\n",
       "};\n",
       "\n",
       "mpl.figure.prototype._init_header = function () {\n",
       "    var titlebar = document.createElement('div');\n",
       "    titlebar.classList =\n",
       "        'ui-dialog-titlebar ui-widget-header ui-corner-all ui-helper-clearfix';\n",
       "    var titletext = document.createElement('div');\n",
       "    titletext.classList = 'ui-dialog-title';\n",
       "    titletext.setAttribute(\n",
       "        'style',\n",
       "        'width: 100%; text-align: center; padding: 3px;'\n",
       "    );\n",
       "    titlebar.appendChild(titletext);\n",
       "    this.root.appendChild(titlebar);\n",
       "    this.header = titletext;\n",
       "};\n",
       "\n",
       "mpl.figure.prototype._canvas_extra_style = function (_canvas_div) {};\n",
       "\n",
       "mpl.figure.prototype._root_extra_style = function (_canvas_div) {};\n",
       "\n",
       "mpl.figure.prototype._init_canvas = function () {\n",
       "    var fig = this;\n",
       "\n",
       "    var canvas_div = (this.canvas_div = document.createElement('div'));\n",
       "    canvas_div.setAttribute(\n",
       "        'style',\n",
       "        'border: 1px solid #ddd;' +\n",
       "            'box-sizing: content-box;' +\n",
       "            'clear: both;' +\n",
       "            'min-height: 1px;' +\n",
       "            'min-width: 1px;' +\n",
       "            'outline: 0;' +\n",
       "            'overflow: hidden;' +\n",
       "            'position: relative;' +\n",
       "            'resize: both;'\n",
       "    );\n",
       "\n",
       "    function on_keyboard_event_closure(name) {\n",
       "        return function (event) {\n",
       "            return fig.key_event(event, name);\n",
       "        };\n",
       "    }\n",
       "\n",
       "    canvas_div.addEventListener(\n",
       "        'keydown',\n",
       "        on_keyboard_event_closure('key_press')\n",
       "    );\n",
       "    canvas_div.addEventListener(\n",
       "        'keyup',\n",
       "        on_keyboard_event_closure('key_release')\n",
       "    );\n",
       "\n",
       "    this._canvas_extra_style(canvas_div);\n",
       "    this.root.appendChild(canvas_div);\n",
       "\n",
       "    var canvas = (this.canvas = document.createElement('canvas'));\n",
       "    canvas.classList.add('mpl-canvas');\n",
       "    canvas.setAttribute('style', 'box-sizing: content-box;');\n",
       "\n",
       "    this.context = canvas.getContext('2d');\n",
       "\n",
       "    var backingStore =\n",
       "        this.context.backingStorePixelRatio ||\n",
       "        this.context.webkitBackingStorePixelRatio ||\n",
       "        this.context.mozBackingStorePixelRatio ||\n",
       "        this.context.msBackingStorePixelRatio ||\n",
       "        this.context.oBackingStorePixelRatio ||\n",
       "        this.context.backingStorePixelRatio ||\n",
       "        1;\n",
       "\n",
       "    this.ratio = (window.devicePixelRatio || 1) / backingStore;\n",
       "    if (this.ratio !== 1) {\n",
       "        fig.send_message('set_dpi_ratio', { dpi_ratio: this.ratio });\n",
       "    }\n",
       "\n",
       "    var rubberband_canvas = (this.rubberband_canvas = document.createElement(\n",
       "        'canvas'\n",
       "    ));\n",
       "    rubberband_canvas.setAttribute(\n",
       "        'style',\n",
       "        'box-sizing: content-box; position: absolute; left: 0; top: 0; z-index: 1;'\n",
       "    );\n",
       "\n",
       "    var resizeObserver = new ResizeObserver(function (entries) {\n",
       "        var nentries = entries.length;\n",
       "        for (var i = 0; i < nentries; i++) {\n",
       "            var entry = entries[i];\n",
       "            var width, height;\n",
       "            if (entry.contentBoxSize) {\n",
       "                if (entry.contentBoxSize instanceof Array) {\n",
       "                    // Chrome 84 implements new version of spec.\n",
       "                    width = entry.contentBoxSize[0].inlineSize;\n",
       "                    height = entry.contentBoxSize[0].blockSize;\n",
       "                } else {\n",
       "                    // Firefox implements old version of spec.\n",
       "                    width = entry.contentBoxSize.inlineSize;\n",
       "                    height = entry.contentBoxSize.blockSize;\n",
       "                }\n",
       "            } else {\n",
       "                // Chrome <84 implements even older version of spec.\n",
       "                width = entry.contentRect.width;\n",
       "                height = entry.contentRect.height;\n",
       "            }\n",
       "\n",
       "            // Keep the size of the canvas and rubber band canvas in sync with\n",
       "            // the canvas container.\n",
       "            if (entry.devicePixelContentBoxSize) {\n",
       "                // Chrome 84 implements new version of spec.\n",
       "                canvas.setAttribute(\n",
       "                    'width',\n",
       "                    entry.devicePixelContentBoxSize[0].inlineSize\n",
       "                );\n",
       "                canvas.setAttribute(\n",
       "                    'height',\n",
       "                    entry.devicePixelContentBoxSize[0].blockSize\n",
       "                );\n",
       "            } else {\n",
       "                canvas.setAttribute('width', width * fig.ratio);\n",
       "                canvas.setAttribute('height', height * fig.ratio);\n",
       "            }\n",
       "            canvas.setAttribute(\n",
       "                'style',\n",
       "                'width: ' + width + 'px; height: ' + height + 'px;'\n",
       "            );\n",
       "\n",
       "            rubberband_canvas.setAttribute('width', width);\n",
       "            rubberband_canvas.setAttribute('height', height);\n",
       "\n",
       "            // And update the size in Python. We ignore the initial 0/0 size\n",
       "            // that occurs as the element is placed into the DOM, which should\n",
       "            // otherwise not happen due to the minimum size styling.\n",
       "            if (width != 0 && height != 0) {\n",
       "                fig.request_resize(width, height);\n",
       "            }\n",
       "        }\n",
       "    });\n",
       "    resizeObserver.observe(canvas_div);\n",
       "\n",
       "    function on_mouse_event_closure(name) {\n",
       "        return function (event) {\n",
       "            return fig.mouse_event(event, name);\n",
       "        };\n",
       "    }\n",
       "\n",
       "    rubberband_canvas.addEventListener(\n",
       "        'mousedown',\n",
       "        on_mouse_event_closure('button_press')\n",
       "    );\n",
       "    rubberband_canvas.addEventListener(\n",
       "        'mouseup',\n",
       "        on_mouse_event_closure('button_release')\n",
       "    );\n",
       "    // Throttle sequential mouse events to 1 every 20ms.\n",
       "    rubberband_canvas.addEventListener(\n",
       "        'mousemove',\n",
       "        on_mouse_event_closure('motion_notify')\n",
       "    );\n",
       "\n",
       "    rubberband_canvas.addEventListener(\n",
       "        'mouseenter',\n",
       "        on_mouse_event_closure('figure_enter')\n",
       "    );\n",
       "    rubberband_canvas.addEventListener(\n",
       "        'mouseleave',\n",
       "        on_mouse_event_closure('figure_leave')\n",
       "    );\n",
       "\n",
       "    canvas_div.addEventListener('wheel', function (event) {\n",
       "        if (event.deltaY < 0) {\n",
       "            event.step = 1;\n",
       "        } else {\n",
       "            event.step = -1;\n",
       "        }\n",
       "        on_mouse_event_closure('scroll')(event);\n",
       "    });\n",
       "\n",
       "    canvas_div.appendChild(canvas);\n",
       "    canvas_div.appendChild(rubberband_canvas);\n",
       "\n",
       "    this.rubberband_context = rubberband_canvas.getContext('2d');\n",
       "    this.rubberband_context.strokeStyle = '#000000';\n",
       "\n",
       "    this._resize_canvas = function (width, height, forward) {\n",
       "        if (forward) {\n",
       "            canvas_div.style.width = width + 'px';\n",
       "            canvas_div.style.height = height + 'px';\n",
       "        }\n",
       "    };\n",
       "\n",
       "    // Disable right mouse context menu.\n",
       "    this.rubberband_canvas.addEventListener('contextmenu', function (_e) {\n",
       "        event.preventDefault();\n",
       "        return false;\n",
       "    });\n",
       "\n",
       "    function set_focus() {\n",
       "        canvas.focus();\n",
       "        canvas_div.focus();\n",
       "    }\n",
       "\n",
       "    window.setTimeout(set_focus, 100);\n",
       "};\n",
       "\n",
       "mpl.figure.prototype._init_toolbar = function () {\n",
       "    var fig = this;\n",
       "\n",
       "    var toolbar = document.createElement('div');\n",
       "    toolbar.classList = 'mpl-toolbar';\n",
       "    this.root.appendChild(toolbar);\n",
       "\n",
       "    function on_click_closure(name) {\n",
       "        return function (_event) {\n",
       "            return fig.toolbar_button_onclick(name);\n",
       "        };\n",
       "    }\n",
       "\n",
       "    function on_mouseover_closure(tooltip) {\n",
       "        return function (event) {\n",
       "            if (!event.currentTarget.disabled) {\n",
       "                return fig.toolbar_button_onmouseover(tooltip);\n",
       "            }\n",
       "        };\n",
       "    }\n",
       "\n",
       "    fig.buttons = {};\n",
       "    var buttonGroup = document.createElement('div');\n",
       "    buttonGroup.classList = 'mpl-button-group';\n",
       "    for (var toolbar_ind in mpl.toolbar_items) {\n",
       "        var name = mpl.toolbar_items[toolbar_ind][0];\n",
       "        var tooltip = mpl.toolbar_items[toolbar_ind][1];\n",
       "        var image = mpl.toolbar_items[toolbar_ind][2];\n",
       "        var method_name = mpl.toolbar_items[toolbar_ind][3];\n",
       "\n",
       "        if (!name) {\n",
       "            /* Instead of a spacer, we start a new button group. */\n",
       "            if (buttonGroup.hasChildNodes()) {\n",
       "                toolbar.appendChild(buttonGroup);\n",
       "            }\n",
       "            buttonGroup = document.createElement('div');\n",
       "            buttonGroup.classList = 'mpl-button-group';\n",
       "            continue;\n",
       "        }\n",
       "\n",
       "        var button = (fig.buttons[name] = document.createElement('button'));\n",
       "        button.classList = 'mpl-widget';\n",
       "        button.setAttribute('role', 'button');\n",
       "        button.setAttribute('aria-disabled', 'false');\n",
       "        button.addEventListener('click', on_click_closure(method_name));\n",
       "        button.addEventListener('mouseover', on_mouseover_closure(tooltip));\n",
       "\n",
       "        var icon_img = document.createElement('img');\n",
       "        icon_img.src = '_images/' + image + '.png';\n",
       "        icon_img.srcset = '_images/' + image + '_large.png 2x';\n",
       "        icon_img.alt = tooltip;\n",
       "        button.appendChild(icon_img);\n",
       "\n",
       "        buttonGroup.appendChild(button);\n",
       "    }\n",
       "\n",
       "    if (buttonGroup.hasChildNodes()) {\n",
       "        toolbar.appendChild(buttonGroup);\n",
       "    }\n",
       "\n",
       "    var fmt_picker = document.createElement('select');\n",
       "    fmt_picker.classList = 'mpl-widget';\n",
       "    toolbar.appendChild(fmt_picker);\n",
       "    this.format_dropdown = fmt_picker;\n",
       "\n",
       "    for (var ind in mpl.extensions) {\n",
       "        var fmt = mpl.extensions[ind];\n",
       "        var option = document.createElement('option');\n",
       "        option.selected = fmt === mpl.default_extension;\n",
       "        option.innerHTML = fmt;\n",
       "        fmt_picker.appendChild(option);\n",
       "    }\n",
       "\n",
       "    var status_bar = document.createElement('span');\n",
       "    status_bar.classList = 'mpl-message';\n",
       "    toolbar.appendChild(status_bar);\n",
       "    this.message = status_bar;\n",
       "};\n",
       "\n",
       "mpl.figure.prototype.request_resize = function (x_pixels, y_pixels) {\n",
       "    // Request matplotlib to resize the figure. Matplotlib will then trigger a resize in the client,\n",
       "    // which will in turn request a refresh of the image.\n",
       "    this.send_message('resize', { width: x_pixels, height: y_pixels });\n",
       "};\n",
       "\n",
       "mpl.figure.prototype.send_message = function (type, properties) {\n",
       "    properties['type'] = type;\n",
       "    properties['figure_id'] = this.id;\n",
       "    this.ws.send(JSON.stringify(properties));\n",
       "};\n",
       "\n",
       "mpl.figure.prototype.send_draw_message = function () {\n",
       "    if (!this.waiting) {\n",
       "        this.waiting = true;\n",
       "        this.ws.send(JSON.stringify({ type: 'draw', figure_id: this.id }));\n",
       "    }\n",
       "};\n",
       "\n",
       "mpl.figure.prototype.handle_save = function (fig, _msg) {\n",
       "    var format_dropdown = fig.format_dropdown;\n",
       "    var format = format_dropdown.options[format_dropdown.selectedIndex].value;\n",
       "    fig.ondownload(fig, format);\n",
       "};\n",
       "\n",
       "mpl.figure.prototype.handle_resize = function (fig, msg) {\n",
       "    var size = msg['size'];\n",
       "    if (size[0] !== fig.canvas.width || size[1] !== fig.canvas.height) {\n",
       "        fig._resize_canvas(size[0], size[1], msg['forward']);\n",
       "        fig.send_message('refresh', {});\n",
       "    }\n",
       "};\n",
       "\n",
       "mpl.figure.prototype.handle_rubberband = function (fig, msg) {\n",
       "    var x0 = msg['x0'] / fig.ratio;\n",
       "    var y0 = (fig.canvas.height - msg['y0']) / fig.ratio;\n",
       "    var x1 = msg['x1'] / fig.ratio;\n",
       "    var y1 = (fig.canvas.height - msg['y1']) / fig.ratio;\n",
       "    x0 = Math.floor(x0) + 0.5;\n",
       "    y0 = Math.floor(y0) + 0.5;\n",
       "    x1 = Math.floor(x1) + 0.5;\n",
       "    y1 = Math.floor(y1) + 0.5;\n",
       "    var min_x = Math.min(x0, x1);\n",
       "    var min_y = Math.min(y0, y1);\n",
       "    var width = Math.abs(x1 - x0);\n",
       "    var height = Math.abs(y1 - y0);\n",
       "\n",
       "    fig.rubberband_context.clearRect(\n",
       "        0,\n",
       "        0,\n",
       "        fig.canvas.width / fig.ratio,\n",
       "        fig.canvas.height / fig.ratio\n",
       "    );\n",
       "\n",
       "    fig.rubberband_context.strokeRect(min_x, min_y, width, height);\n",
       "};\n",
       "\n",
       "mpl.figure.prototype.handle_figure_label = function (fig, msg) {\n",
       "    // Updates the figure title.\n",
       "    fig.header.textContent = msg['label'];\n",
       "};\n",
       "\n",
       "mpl.figure.prototype.handle_cursor = function (fig, msg) {\n",
       "    var cursor = msg['cursor'];\n",
       "    switch (cursor) {\n",
       "        case 0:\n",
       "            cursor = 'pointer';\n",
       "            break;\n",
       "        case 1:\n",
       "            cursor = 'default';\n",
       "            break;\n",
       "        case 2:\n",
       "            cursor = 'crosshair';\n",
       "            break;\n",
       "        case 3:\n",
       "            cursor = 'move';\n",
       "            break;\n",
       "    }\n",
       "    fig.rubberband_canvas.style.cursor = cursor;\n",
       "};\n",
       "\n",
       "mpl.figure.prototype.handle_message = function (fig, msg) {\n",
       "    fig.message.textContent = msg['message'];\n",
       "};\n",
       "\n",
       "mpl.figure.prototype.handle_draw = function (fig, _msg) {\n",
       "    // Request the server to send over a new figure.\n",
       "    fig.send_draw_message();\n",
       "};\n",
       "\n",
       "mpl.figure.prototype.handle_image_mode = function (fig, msg) {\n",
       "    fig.image_mode = msg['mode'];\n",
       "};\n",
       "\n",
       "mpl.figure.prototype.handle_history_buttons = function (fig, msg) {\n",
       "    for (var key in msg) {\n",
       "        if (!(key in fig.buttons)) {\n",
       "            continue;\n",
       "        }\n",
       "        fig.buttons[key].disabled = !msg[key];\n",
       "        fig.buttons[key].setAttribute('aria-disabled', !msg[key]);\n",
       "    }\n",
       "};\n",
       "\n",
       "mpl.figure.prototype.handle_navigate_mode = function (fig, msg) {\n",
       "    if (msg['mode'] === 'PAN') {\n",
       "        fig.buttons['Pan'].classList.add('active');\n",
       "        fig.buttons['Zoom'].classList.remove('active');\n",
       "    } else if (msg['mode'] === 'ZOOM') {\n",
       "        fig.buttons['Pan'].classList.remove('active');\n",
       "        fig.buttons['Zoom'].classList.add('active');\n",
       "    } else {\n",
       "        fig.buttons['Pan'].classList.remove('active');\n",
       "        fig.buttons['Zoom'].classList.remove('active');\n",
       "    }\n",
       "};\n",
       "\n",
       "mpl.figure.prototype.updated_canvas_event = function () {\n",
       "    // Called whenever the canvas gets updated.\n",
       "    this.send_message('ack', {});\n",
       "};\n",
       "\n",
       "// A function to construct a web socket function for onmessage handling.\n",
       "// Called in the figure constructor.\n",
       "mpl.figure.prototype._make_on_message_function = function (fig) {\n",
       "    return function socket_on_message(evt) {\n",
       "        if (evt.data instanceof Blob) {\n",
       "            /* FIXME: We get \"Resource interpreted as Image but\n",
       "             * transferred with MIME type text/plain:\" errors on\n",
       "             * Chrome.  But how to set the MIME type?  It doesn't seem\n",
       "             * to be part of the websocket stream */\n",
       "            evt.data.type = 'image/png';\n",
       "\n",
       "            /* Free the memory for the previous frames */\n",
       "            if (fig.imageObj.src) {\n",
       "                (window.URL || window.webkitURL).revokeObjectURL(\n",
       "                    fig.imageObj.src\n",
       "                );\n",
       "            }\n",
       "\n",
       "            fig.imageObj.src = (window.URL || window.webkitURL).createObjectURL(\n",
       "                evt.data\n",
       "            );\n",
       "            fig.updated_canvas_event();\n",
       "            fig.waiting = false;\n",
       "            return;\n",
       "        } else if (\n",
       "            typeof evt.data === 'string' &&\n",
       "            evt.data.slice(0, 21) === 'data:image/png;base64'\n",
       "        ) {\n",
       "            fig.imageObj.src = evt.data;\n",
       "            fig.updated_canvas_event();\n",
       "            fig.waiting = false;\n",
       "            return;\n",
       "        }\n",
       "\n",
       "        var msg = JSON.parse(evt.data);\n",
       "        var msg_type = msg['type'];\n",
       "\n",
       "        // Call the  \"handle_{type}\" callback, which takes\n",
       "        // the figure and JSON message as its only arguments.\n",
       "        try {\n",
       "            var callback = fig['handle_' + msg_type];\n",
       "        } catch (e) {\n",
       "            console.log(\n",
       "                \"No handler for the '\" + msg_type + \"' message type: \",\n",
       "                msg\n",
       "            );\n",
       "            return;\n",
       "        }\n",
       "\n",
       "        if (callback) {\n",
       "            try {\n",
       "                // console.log(\"Handling '\" + msg_type + \"' message: \", msg);\n",
       "                callback(fig, msg);\n",
       "            } catch (e) {\n",
       "                console.log(\n",
       "                    \"Exception inside the 'handler_\" + msg_type + \"' callback:\",\n",
       "                    e,\n",
       "                    e.stack,\n",
       "                    msg\n",
       "                );\n",
       "            }\n",
       "        }\n",
       "    };\n",
       "};\n",
       "\n",
       "// from http://stackoverflow.com/questions/1114465/getting-mouse-location-in-canvas\n",
       "mpl.findpos = function (e) {\n",
       "    //this section is from http://www.quirksmode.org/js/events_properties.html\n",
       "    var targ;\n",
       "    if (!e) {\n",
       "        e = window.event;\n",
       "    }\n",
       "    if (e.target) {\n",
       "        targ = e.target;\n",
       "    } else if (e.srcElement) {\n",
       "        targ = e.srcElement;\n",
       "    }\n",
       "    if (targ.nodeType === 3) {\n",
       "        // defeat Safari bug\n",
       "        targ = targ.parentNode;\n",
       "    }\n",
       "\n",
       "    // pageX,Y are the mouse positions relative to the document\n",
       "    var boundingRect = targ.getBoundingClientRect();\n",
       "    var x = e.pageX - (boundingRect.left + document.body.scrollLeft);\n",
       "    var y = e.pageY - (boundingRect.top + document.body.scrollTop);\n",
       "\n",
       "    return { x: x, y: y };\n",
       "};\n",
       "\n",
       "/*\n",
       " * return a copy of an object with only non-object keys\n",
       " * we need this to avoid circular references\n",
       " * http://stackoverflow.com/a/24161582/3208463\n",
       " */\n",
       "function simpleKeys(original) {\n",
       "    return Object.keys(original).reduce(function (obj, key) {\n",
       "        if (typeof original[key] !== 'object') {\n",
       "            obj[key] = original[key];\n",
       "        }\n",
       "        return obj;\n",
       "    }, {});\n",
       "}\n",
       "\n",
       "mpl.figure.prototype.mouse_event = function (event, name) {\n",
       "    var canvas_pos = mpl.findpos(event);\n",
       "\n",
       "    if (name === 'button_press') {\n",
       "        this.canvas.focus();\n",
       "        this.canvas_div.focus();\n",
       "    }\n",
       "\n",
       "    var x = canvas_pos.x * this.ratio;\n",
       "    var y = canvas_pos.y * this.ratio;\n",
       "\n",
       "    this.send_message(name, {\n",
       "        x: x,\n",
       "        y: y,\n",
       "        button: event.button,\n",
       "        step: event.step,\n",
       "        guiEvent: simpleKeys(event),\n",
       "    });\n",
       "\n",
       "    /* This prevents the web browser from automatically changing to\n",
       "     * the text insertion cursor when the button is pressed.  We want\n",
       "     * to control all of the cursor setting manually through the\n",
       "     * 'cursor' event from matplotlib */\n",
       "    event.preventDefault();\n",
       "    return false;\n",
       "};\n",
       "\n",
       "mpl.figure.prototype._key_event_extra = function (_event, _name) {\n",
       "    // Handle any extra behaviour associated with a key event\n",
       "};\n",
       "\n",
       "mpl.figure.prototype.key_event = function (event, name) {\n",
       "    // Prevent repeat events\n",
       "    if (name === 'key_press') {\n",
       "        if (event.which === this._key) {\n",
       "            return;\n",
       "        } else {\n",
       "            this._key = event.which;\n",
       "        }\n",
       "    }\n",
       "    if (name === 'key_release') {\n",
       "        this._key = null;\n",
       "    }\n",
       "\n",
       "    var value = '';\n",
       "    if (event.ctrlKey && event.which !== 17) {\n",
       "        value += 'ctrl+';\n",
       "    }\n",
       "    if (event.altKey && event.which !== 18) {\n",
       "        value += 'alt+';\n",
       "    }\n",
       "    if (event.shiftKey && event.which !== 16) {\n",
       "        value += 'shift+';\n",
       "    }\n",
       "\n",
       "    value += 'k';\n",
       "    value += event.which.toString();\n",
       "\n",
       "    this._key_event_extra(event, name);\n",
       "\n",
       "    this.send_message(name, { key: value, guiEvent: simpleKeys(event) });\n",
       "    return false;\n",
       "};\n",
       "\n",
       "mpl.figure.prototype.toolbar_button_onclick = function (name) {\n",
       "    if (name === 'download') {\n",
       "        this.handle_save(this, null);\n",
       "    } else {\n",
       "        this.send_message('toolbar_button', { name: name });\n",
       "    }\n",
       "};\n",
       "\n",
       "mpl.figure.prototype.toolbar_button_onmouseover = function (tooltip) {\n",
       "    this.message.textContent = tooltip;\n",
       "};\n",
       "mpl.toolbar_items = [[\"Home\", \"Reset original view\", \"fa fa-home icon-home\", \"home\"], [\"Back\", \"Back to previous view\", \"fa fa-arrow-left icon-arrow-left\", \"back\"], [\"Forward\", \"Forward to next view\", \"fa fa-arrow-right icon-arrow-right\", \"forward\"], [\"\", \"\", \"\", \"\"], [\"Pan\", \"Left button pans, Right button zooms\\nx/y fixes axis, CTRL fixes aspect\", \"fa fa-arrows icon-move\", \"pan\"], [\"Zoom\", \"Zoom to rectangle\\nx/y fixes axis, CTRL fixes aspect\", \"fa fa-square-o icon-check-empty\", \"zoom\"], [\"\", \"\", \"\", \"\"], [\"Download\", \"Download plot\", \"fa fa-floppy-o icon-save\", \"download\"]];\n",
       "\n",
       "mpl.extensions = [\"eps\", \"jpeg\", \"pdf\", \"png\", \"ps\", \"raw\", \"svg\", \"tif\"];\n",
       "\n",
       "mpl.default_extension = \"png\";/* global mpl */\n",
       "\n",
       "var comm_websocket_adapter = function (comm) {\n",
       "    // Create a \"websocket\"-like object which calls the given IPython comm\n",
       "    // object with the appropriate methods. Currently this is a non binary\n",
       "    // socket, so there is still some room for performance tuning.\n",
       "    var ws = {};\n",
       "\n",
       "    ws.close = function () {\n",
       "        comm.close();\n",
       "    };\n",
       "    ws.send = function (m) {\n",
       "        //console.log('sending', m);\n",
       "        comm.send(m);\n",
       "    };\n",
       "    // Register the callback with on_msg.\n",
       "    comm.on_msg(function (msg) {\n",
       "        //console.log('receiving', msg['content']['data'], msg);\n",
       "        // Pass the mpl event to the overridden (by mpl) onmessage function.\n",
       "        ws.onmessage(msg['content']['data']);\n",
       "    });\n",
       "    return ws;\n",
       "};\n",
       "\n",
       "mpl.mpl_figure_comm = function (comm, msg) {\n",
       "    // This is the function which gets called when the mpl process\n",
       "    // starts-up an IPython Comm through the \"matplotlib\" channel.\n",
       "\n",
       "    var id = msg.content.data.id;\n",
       "    // Get hold of the div created by the display call when the Comm\n",
       "    // socket was opened in Python.\n",
       "    var element = document.getElementById(id);\n",
       "    var ws_proxy = comm_websocket_adapter(comm);\n",
       "\n",
       "    function ondownload(figure, _format) {\n",
       "        window.open(figure.canvas.toDataURL());\n",
       "    }\n",
       "\n",
       "    var fig = new mpl.figure(id, ws_proxy, ondownload, element);\n",
       "\n",
       "    // Call onopen now - mpl needs it, as it is assuming we've passed it a real\n",
       "    // web socket which is closed, not our websocket->open comm proxy.\n",
       "    ws_proxy.onopen();\n",
       "\n",
       "    fig.parent_element = element;\n",
       "    fig.cell_info = mpl.find_output_cell(\"<div id='\" + id + \"'></div>\");\n",
       "    if (!fig.cell_info) {\n",
       "        console.error('Failed to find cell for figure', id, fig);\n",
       "        return;\n",
       "    }\n",
       "    fig.cell_info[0].output_area.element.one(\n",
       "        'cleared',\n",
       "        { fig: fig },\n",
       "        fig._remove_fig_handler\n",
       "    );\n",
       "};\n",
       "\n",
       "mpl.figure.prototype.handle_close = function (fig, msg) {\n",
       "    var width = fig.canvas.width / fig.ratio;\n",
       "    fig.cell_info[0].output_area.element.off(\n",
       "        'cleared',\n",
       "        fig._remove_fig_handler\n",
       "    );\n",
       "\n",
       "    // Update the output cell to use the data from the current canvas.\n",
       "    fig.push_to_output();\n",
       "    var dataURL = fig.canvas.toDataURL();\n",
       "    // Re-enable the keyboard manager in IPython - without this line, in FF,\n",
       "    // the notebook keyboard shortcuts fail.\n",
       "    IPython.keyboard_manager.enable();\n",
       "    fig.parent_element.innerHTML =\n",
       "        '<img src=\"' + dataURL + '\" width=\"' + width + '\">';\n",
       "    fig.close_ws(fig, msg);\n",
       "};\n",
       "\n",
       "mpl.figure.prototype.close_ws = function (fig, msg) {\n",
       "    fig.send_message('closing', msg);\n",
       "    // fig.ws.close()\n",
       "};\n",
       "\n",
       "mpl.figure.prototype.push_to_output = function (_remove_interactive) {\n",
       "    // Turn the data on the canvas into data in the output cell.\n",
       "    var width = this.canvas.width / this.ratio;\n",
       "    var dataURL = this.canvas.toDataURL();\n",
       "    this.cell_info[1]['text/html'] =\n",
       "        '<img src=\"' + dataURL + '\" width=\"' + width + '\">';\n",
       "};\n",
       "\n",
       "mpl.figure.prototype.updated_canvas_event = function () {\n",
       "    // Tell IPython that the notebook contents must change.\n",
       "    IPython.notebook.set_dirty(true);\n",
       "    this.send_message('ack', {});\n",
       "    var fig = this;\n",
       "    // Wait a second, then push the new image to the DOM so\n",
       "    // that it is saved nicely (might be nice to debounce this).\n",
       "    setTimeout(function () {\n",
       "        fig.push_to_output();\n",
       "    }, 1000);\n",
       "};\n",
       "\n",
       "mpl.figure.prototype._init_toolbar = function () {\n",
       "    var fig = this;\n",
       "\n",
       "    var toolbar = document.createElement('div');\n",
       "    toolbar.classList = 'btn-toolbar';\n",
       "    this.root.appendChild(toolbar);\n",
       "\n",
       "    function on_click_closure(name) {\n",
       "        return function (_event) {\n",
       "            return fig.toolbar_button_onclick(name);\n",
       "        };\n",
       "    }\n",
       "\n",
       "    function on_mouseover_closure(tooltip) {\n",
       "        return function (event) {\n",
       "            if (!event.currentTarget.disabled) {\n",
       "                return fig.toolbar_button_onmouseover(tooltip);\n",
       "            }\n",
       "        };\n",
       "    }\n",
       "\n",
       "    fig.buttons = {};\n",
       "    var buttonGroup = document.createElement('div');\n",
       "    buttonGroup.classList = 'btn-group';\n",
       "    var button;\n",
       "    for (var toolbar_ind in mpl.toolbar_items) {\n",
       "        var name = mpl.toolbar_items[toolbar_ind][0];\n",
       "        var tooltip = mpl.toolbar_items[toolbar_ind][1];\n",
       "        var image = mpl.toolbar_items[toolbar_ind][2];\n",
       "        var method_name = mpl.toolbar_items[toolbar_ind][3];\n",
       "\n",
       "        if (!name) {\n",
       "            /* Instead of a spacer, we start a new button group. */\n",
       "            if (buttonGroup.hasChildNodes()) {\n",
       "                toolbar.appendChild(buttonGroup);\n",
       "            }\n",
       "            buttonGroup = document.createElement('div');\n",
       "            buttonGroup.classList = 'btn-group';\n",
       "            continue;\n",
       "        }\n",
       "\n",
       "        button = fig.buttons[name] = document.createElement('button');\n",
       "        button.classList = 'btn btn-default';\n",
       "        button.href = '#';\n",
       "        button.title = name;\n",
       "        button.innerHTML = '<i class=\"fa ' + image + ' fa-lg\"></i>';\n",
       "        button.addEventListener('click', on_click_closure(method_name));\n",
       "        button.addEventListener('mouseover', on_mouseover_closure(tooltip));\n",
       "        buttonGroup.appendChild(button);\n",
       "    }\n",
       "\n",
       "    if (buttonGroup.hasChildNodes()) {\n",
       "        toolbar.appendChild(buttonGroup);\n",
       "    }\n",
       "\n",
       "    // Add the status bar.\n",
       "    var status_bar = document.createElement('span');\n",
       "    status_bar.classList = 'mpl-message pull-right';\n",
       "    toolbar.appendChild(status_bar);\n",
       "    this.message = status_bar;\n",
       "\n",
       "    // Add the close button to the window.\n",
       "    var buttongrp = document.createElement('div');\n",
       "    buttongrp.classList = 'btn-group inline pull-right';\n",
       "    button = document.createElement('button');\n",
       "    button.classList = 'btn btn-mini btn-primary';\n",
       "    button.href = '#';\n",
       "    button.title = 'Stop Interaction';\n",
       "    button.innerHTML = '<i class=\"fa fa-power-off icon-remove icon-large\"></i>';\n",
       "    button.addEventListener('click', function (_evt) {\n",
       "        fig.handle_close(fig, {});\n",
       "    });\n",
       "    button.addEventListener(\n",
       "        'mouseover',\n",
       "        on_mouseover_closure('Stop Interaction')\n",
       "    );\n",
       "    buttongrp.appendChild(button);\n",
       "    var titlebar = this.root.querySelector('.ui-dialog-titlebar');\n",
       "    titlebar.insertBefore(buttongrp, titlebar.firstChild);\n",
       "};\n",
       "\n",
       "mpl.figure.prototype._remove_fig_handler = function (event) {\n",
       "    var fig = event.data.fig;\n",
       "    fig.close_ws(fig, {});\n",
       "};\n",
       "\n",
       "mpl.figure.prototype._root_extra_style = function (el) {\n",
       "    el.style.boxSizing = 'content-box'; // override notebook setting of border-box.\n",
       "};\n",
       "\n",
       "mpl.figure.prototype._canvas_extra_style = function (el) {\n",
       "    // this is important to make the div 'focusable\n",
       "    el.setAttribute('tabindex', 0);\n",
       "    // reach out to IPython and tell the keyboard manager to turn it's self\n",
       "    // off when our div gets focus\n",
       "\n",
       "    // location in version 3\n",
       "    if (IPython.notebook.keyboard_manager) {\n",
       "        IPython.notebook.keyboard_manager.register_events(el);\n",
       "    } else {\n",
       "        // location in version 2\n",
       "        IPython.keyboard_manager.register_events(el);\n",
       "    }\n",
       "};\n",
       "\n",
       "mpl.figure.prototype._key_event_extra = function (event, _name) {\n",
       "    var manager = IPython.notebook.keyboard_manager;\n",
       "    if (!manager) {\n",
       "        manager = IPython.keyboard_manager;\n",
       "    }\n",
       "\n",
       "    // Check for shift+enter\n",
       "    if (event.shiftKey && event.which === 13) {\n",
       "        this.canvas_div.blur();\n",
       "        // select the cell after this one\n",
       "        var index = IPython.notebook.find_cell_index(this.cell_info[0]);\n",
       "        IPython.notebook.select(index + 1);\n",
       "    }\n",
       "};\n",
       "\n",
       "mpl.figure.prototype.handle_save = function (fig, _msg) {\n",
       "    fig.ondownload(fig, null);\n",
       "};\n",
       "\n",
       "mpl.find_output_cell = function (html_output) {\n",
       "    // Return the cell and output element which can be found *uniquely* in the notebook.\n",
       "    // Note - this is a bit hacky, but it is done because the \"notebook_saving.Notebook\"\n",
       "    // IPython event is triggered only after the cells have been serialised, which for\n",
       "    // our purposes (turning an active figure into a static one), is too late.\n",
       "    var cells = IPython.notebook.get_cells();\n",
       "    var ncells = cells.length;\n",
       "    for (var i = 0; i < ncells; i++) {\n",
       "        var cell = cells[i];\n",
       "        if (cell.cell_type === 'code') {\n",
       "            for (var j = 0; j < cell.output_area.outputs.length; j++) {\n",
       "                var data = cell.output_area.outputs[j];\n",
       "                if (data.data) {\n",
       "                    // IPython >= 3 moved mimebundle to data attribute of output\n",
       "                    data = data.data;\n",
       "                }\n",
       "                if (data['text/html'] === html_output) {\n",
       "                    return [cell, data, j];\n",
       "                }\n",
       "            }\n",
       "        }\n",
       "    }\n",
       "};\n",
       "\n",
       "// Register the function which deals with the matplotlib target/channel.\n",
       "// The kernel may be null if the page has been refreshed.\n",
       "if (IPython.notebook.kernel !== null) {\n",
       "    IPython.notebook.kernel.comm_manager.register_target(\n",
       "        'matplotlib',\n",
       "        mpl.mpl_figure_comm\n",
       "    );\n",
       "}\n"
      ],
      "text/plain": [
       "<IPython.core.display.Javascript object>"
      ]
     },
     "metadata": {},
     "output_type": "display_data"
    },
    {
     "data": {
      "text/html": [
       "<img src=\"data:image/png;base64,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\" width=\"640\">"
      ],
      "text/plain": [
       "<IPython.core.display.HTML object>"
      ]
     },
     "metadata": {},
     "output_type": "display_data"
    }
   ],
   "source": [
    "fig, ax = plt.subplots()\n",
    "nd.data.multiply(1e24).plot(kind=\"bar\", ax=ax, logy=True)\n",
    "ax.set_xlabel(\"Nuclide / ZAM\", fontsize=\"large\")\n",
    "ax.set_ylabel(\"Atomic density / $\\\\frac{atoms}{cm^3}$\", fontsize=\"large\")\n",
    "plt.tight_layout();"
   ]
  },
  {
   "cell_type": "markdown",
   "metadata": {},
   "source": [
    "## Convert from weight fractions to atomic fractions and the other way around"
   ]
  },
  {
   "cell_type": "markdown",
   "metadata": {},
   "source": [
    "To translate the atomic fractions into weight fractions we can use attribute `to_weight_fractions`."
   ]
  },
  {
   "cell_type": "code",
   "execution_count": 8,
   "metadata": {},
   "outputs": [
    {
     "data": {
      "text/plain": [
       "942390   -1.47060e+01\n",
       "942400   -6.98062e-01\n",
       "942410   -4.67292e-02\n",
       "310690   -9.46080e-02\n",
       "310710   -6.46098e-02\n",
       "dtype: float64"
      ]
     },
     "execution_count": 8,
     "metadata": {},
     "output_type": "execute_result"
    }
   ],
   "source": [
    "nd.to_weight_fractions()"
   ]
  },
  {
   "cell_type": "markdown",
   "metadata": {},
   "source": [
    "...and vice-versa with `to_atomic_fractions`."
   ]
  },
  {
   "cell_type": "code",
   "execution_count": 9,
   "metadata": {},
   "outputs": [
    {
     "data": {
      "text/plain": [
       "942390   3.70470e-02\n",
       "942400   1.75120e-03\n",
       "942410   1.16740e-04\n",
       "310690   8.26605e-04\n",
       "310710   5.48595e-04\n",
       "dtype: float64"
      ]
     },
     "execution_count": 9,
     "metadata": {},
     "output_type": "execute_result"
    }
   ],
   "source": [
    "nd.to_atomic_fractions()"
   ]
  },
  {
   "cell_type": "markdown",
   "metadata": {},
   "source": [
    "> Nothing changed since the original data were already atomic fractions."
   ]
  },
  {
   "cell_type": "markdown",
   "metadata": {},
   "source": [
    "## Normalize fractions to a given density"
   ]
  },
  {
   "cell_type": "markdown",
   "metadata": {},
   "source": [
    "The atomic and weight densities of the material can be retrieve using attributes `atomic_density` and `weight_density`."
   ]
  },
  {
   "cell_type": "code",
   "execution_count": 10,
   "metadata": {},
   "outputs": [
    {
     "data": {
      "text/plain": [
       "0.040290139999999995"
      ]
     },
     "execution_count": 10,
     "metadata": {},
     "output_type": "execute_result"
    },
    {
     "data": {
      "text/plain": [
       "15.610043329966283"
      ]
     },
     "execution_count": 10,
     "metadata": {},
     "output_type": "execute_result"
    }
   ],
   "source": [
    "nd.atomic_density\n",
    "nd.weight_density"
   ]
  },
  {
   "cell_type": "markdown",
   "metadata": {},
   "source": [
    "> A material density is just the sum of the given fractions! "
   ]
  },
  {
   "cell_type": "markdown",
   "metadata": {},
   "source": [
    "Oftentimes it is useful to renormalize the material composition, for instance to 1 at/cm/b, then use method `normalize`..."
   ]
  },
  {
   "cell_type": "code",
   "execution_count": 11,
   "metadata": {},
   "outputs": [
    {
     "data": {
      "text/plain": [
       "942390   9.19505e-01\n",
       "942400   4.34647e-02\n",
       "942410   2.89748e-03\n",
       "310690   2.05163e-02\n",
       "310710   1.36161e-02\n",
       "dtype: float64"
      ]
     },
     "execution_count": 11,
     "metadata": {},
     "output_type": "execute_result"
    }
   ],
   "source": [
    "nd.normalize(1)"
   ]
  },
  {
   "cell_type": "markdown",
   "metadata": {},
   "source": [
    "...or to 1 g/cm3..."
   ]
  },
  {
   "cell_type": "code",
   "execution_count": 12,
   "metadata": {},
   "outputs": [
    {
     "data": {
      "text/plain": [
       "942390   -9.42088e-01\n",
       "942400   -4.47188e-02\n",
       "942410   -2.99353e-03\n",
       "310690   -6.06071e-03\n",
       "310710   -4.13899e-03\n",
       "dtype: float64"
      ]
     },
     "execution_count": 12,
     "metadata": {},
     "output_type": "execute_result"
    }
   ],
   "source": [
    "nd.normalize(-1)"
   ]
  },
  {
   "cell_type": "markdown",
   "metadata": {},
   "source": [
    "### Heavy metal content"
   ]
  },
  {
   "cell_type": "markdown",
   "metadata": {},
   "source": [
    "For different purposes --- such as the calculation of burnup --- we are often interested in the actual content of heavy metals in the composition.\n",
    "Self-explicatory method `get_heavy_metal_fraction` returns such value in g/cm3 or at/cm/b according to keyword argument `kind`."
   ]
  },
  {
   "cell_type": "code",
   "execution_count": 13,
   "metadata": {},
   "outputs": [
    {
     "data": {
      "text/plain": [
       "0.038914939999999995"
      ]
     },
     "execution_count": 13,
     "metadata": {},
     "output_type": "execute_result"
    },
    {
     "data": {
      "text/plain": [
       "15.450825576805963"
      ]
     },
     "execution_count": 13,
     "metadata": {},
     "output_type": "execute_result"
    }
   ],
   "source": [
    "nd.get_heavy_metal_fraction(kind=\"atomic\")\n",
    "nd.get_heavy_metal_fraction(kind=\"weight\")"
   ]
  },
  {
   "cell_type": "markdown",
   "metadata": {},
   "source": [
    "> Any element with charge number $Z\\geq80$ is considered a heavy metal"
   ]
  },
  {
   "cell_type": "markdown",
   "metadata": {},
   "source": [
    "## Convert index from ZAM to ZA"
   ]
  },
  {
   "cell_type": "markdown",
   "metadata": {},
   "source": [
    "Another reuiqrement when working with nuclide vectors is to be able to convert the ZAM identifiers into ZA identifiers that are compatible with MCNP.\n",
    "Method `zam2za` was developed with this purpose."
   ]
  },
  {
   "cell_type": "markdown",
   "metadata": {},
   "source": [
    "Below we convert the ZAM identifiers of a test `aleph.Composition` object into ZA identifiers, and to make the exercise more meaningful we add some metastable isotopes in the material composition."
   ]
  },
  {
   "cell_type": "code",
   "execution_count": 14,
   "metadata": {},
   "outputs": [
    {
     "data": {
      "text/plain": [
       "95241   3.70470e-02\n",
       "95242   1.75120e-03\n",
       "95642   1.16740e-04\n",
       "31069   8.26605e-04\n",
       "31071   5.48595e-04\n",
       "dtype: float64"
      ]
     },
     "execution_count": 14,
     "metadata": {},
     "output_type": "execute_result"
    }
   ],
   "source": [
    "atomic_fractions = {\n",
    "    952410: 0.037047,\n",
    "    952420: 0.0017512,\n",
    "    952421: 0.00011674,\n",
    "    310690: 8.26605E-04,\n",
    "    310710: 5.48595E-04,\n",
    "}\n",
    "aleph.Composition(atomic_fractions).zam2za()"
   ]
  },
  {
   "cell_type": "markdown",
   "metadata": {},
   "source": [
    "> Notice that method `zam2za` returns a `pandas.Series` and not a `aleph.Composition` instance. The latter can only contain ZAM in index!"
   ]
  },
  {
   "cell_type": "markdown",
   "metadata": {},
   "source": [
    "This method converts ZAM to ZA identifiers using the NNDC data convention.\n",
    "According to NNDC the ZA identifier of a metastable isotope differs from the one of the isotope in the ground state according to the following rule:\n",
    "\n",
    "* **ground state**: $ZA  = Z \\times 1000 + A$, where $A$, $Z$ and $M$\n",
    "* **meta state**: $ZA  = Z \\times 1000 + A + 300 + M \\times 100$\n",
    "\n",
    "where $A$, $Z$ and $M$ are the number of nucleons, the charge number and the metastate identifier."
   ]
  },
  {
   "cell_type": "markdown",
   "metadata": {},
   "source": [
    "## Depletion"
   ]
  },
  {
   "cell_type": "markdown",
   "metadata": {},
   "source": [
    "A depletion method was added to the `aleph.Composition` object.\n",
    "Here we use it to solve the typical example of $^{210}$Po production from $^{209}$Bi activation, used to verify the depletion solver in ALEPH-2."
   ]
  },
  {
   "cell_type": "markdown",
   "metadata": {},
   "source": [
    "The nuclide vector of $^{209}$Bi is initialized as an `aleph.Composition` instance."
   ]
  },
  {
   "cell_type": "code",
   "execution_count": 15,
   "metadata": {},
   "outputs": [],
   "source": [
    "n0 = aleph.Composition({\n",
    "    832090: 2.773025E-02,         # at/(b*cm)\n",
    "})"
   ]
  },
  {
   "cell_type": "markdown",
   "metadata": {},
   "source": [
    "Below are the decay constants, cross sections and fluxes that define the problem. "
   ]
  },
  {
   "cell_type": "code",
   "execution_count": 16,
   "metadata": {},
   "outputs": [],
   "source": [
    "bi209_activation_xs = 5.0826E-03     # barn\n",
    "neutron_flux = 9.022144E+14          # n/(cm2s)\n",
    "bi210g_decay_constant = 1.60066E-06  # 1/s\n",
    "po210_decay_constant = 5.79714E-08   # 1/s"
   ]
  },
  {
   "cell_type": "markdown",
   "metadata": {},
   "source": [
    "Let's initialize a transition matrix using `pandas` and fill it with reaction rates."
   ]
  },
  {
   "cell_type": "code",
   "execution_count": 17,
   "metadata": {},
   "outputs": [
    {
     "data": {
      "text/html": [
       "<div>\n",
       "<style scoped>\n",
       "    .dataframe tbody tr th:only-of-type {\n",
       "        vertical-align: middle;\n",
       "    }\n",
       "\n",
       "    .dataframe tbody tr th {\n",
       "        vertical-align: top;\n",
       "    }\n",
       "\n",
       "    .dataframe thead th {\n",
       "        text-align: right;\n",
       "    }\n",
       "</style>\n",
       "<table border=\"1\" class=\"dataframe\">\n",
       "  <thead>\n",
       "    <tr style=\"text-align: right;\">\n",
       "      <th></th>\n",
       "      <th>832090</th>\n",
       "      <th>832100</th>\n",
       "      <th>842100</th>\n",
       "      <th>822060</th>\n",
       "    </tr>\n",
       "  </thead>\n",
       "  <tbody>\n",
       "    <tr>\n",
       "      <th>832090</th>\n",
       "      <td>-4.58559e-12</td>\n",
       "      <td>0.00000e+00</td>\n",
       "      <td>0.00000e+00</td>\n",
       "      <td>0.00000e+00</td>\n",
       "    </tr>\n",
       "    <tr>\n",
       "      <th>832100</th>\n",
       "      <td>4.58559e-12</td>\n",
       "      <td>-1.60066e-06</td>\n",
       "      <td>0.00000e+00</td>\n",
       "      <td>0.00000e+00</td>\n",
       "    </tr>\n",
       "    <tr>\n",
       "      <th>842100</th>\n",
       "      <td>0.00000e+00</td>\n",
       "      <td>1.60066e-06</td>\n",
       "      <td>-5.79714e-08</td>\n",
       "      <td>0.00000e+00</td>\n",
       "    </tr>\n",
       "    <tr>\n",
       "      <th>822060</th>\n",
       "      <td>0.00000e+00</td>\n",
       "      <td>0.00000e+00</td>\n",
       "      <td>5.79714e-08</td>\n",
       "      <td>0.00000e+00</td>\n",
       "    </tr>\n",
       "  </tbody>\n",
       "</table>\n",
       "</div>"
      ],
      "text/plain": [
       "             832090       832100       842100      822060\n",
       "832090 -4.58559e-12  0.00000e+00  0.00000e+00 0.00000e+00\n",
       "832100  4.58559e-12 -1.60066e-06  0.00000e+00 0.00000e+00\n",
       "842100  0.00000e+00  1.60066e-06 -5.79714e-08 0.00000e+00\n",
       "822060  0.00000e+00  0.00000e+00  5.79714e-08 0.00000e+00"
      ]
     },
     "execution_count": 17,
     "metadata": {},
     "output_type": "execute_result"
    }
   ],
   "source": [
    "nuclides = [832090, 832100, 842100, 822060]\n",
    "\n",
    "matrix = pd.DataFrame(np.zeros((4, 4)), index=nuclides, columns=nuclides)\n",
    "matrix.loc[832090, 832090] = - bi209_activation_xs * 1e-24 * neutron_flux\n",
    "matrix.loc[832100, 832090] = - matrix.loc[832090, 832090]\n",
    "matrix.loc[832100, 832100] = - bi210g_decay_constant\n",
    "matrix.loc[842100, 832100] = - matrix.loc[832100, 832100]\n",
    "matrix.loc[842100, 842100] = - po210_decay_constant\n",
    "matrix.loc[822060, 842100] = - matrix.loc[842100, 842100]\n",
    "matrix"
   ]
  },
  {
   "cell_type": "markdown",
   "metadata": {},
   "source": [
    "We are interested in the depleted composition at 5 time steps:\n",
    "\n",
    "    - 1 day\n",
    "    - 10 days\n",
    "    - 100 days\n",
    "    - 365 days\n",
    "    - 3650 days"
   ]
  },
  {
   "cell_type": "code",
   "execution_count": 18,
   "metadata": {},
   "outputs": [],
   "source": [
    "time = np.array([1, 10, 100, 365, 3650]) * 24 * 60 * 60"
   ]
  },
  {
   "cell_type": "markdown",
   "metadata": {},
   "source": [
    "The depletion is simulated using method `deplete`."
   ]
  },
  {
   "cell_type": "code",
   "execution_count": 19,
   "metadata": {},
   "outputs": [],
   "source": [
    "n = n0.deplete(time, matrix, rtol=1e-10, atol=1e-15)"
   ]
  },
  {
   "cell_type": "code",
   "execution_count": 20,
   "metadata": {},
   "outputs": [
    {
     "data": {
      "text/html": [
       "<div>\n",
       "<style scoped>\n",
       "    .dataframe tbody tr th:only-of-type {\n",
       "        vertical-align: middle;\n",
       "    }\n",
       "\n",
       "    .dataframe tbody tr th {\n",
       "        vertical-align: top;\n",
       "    }\n",
       "\n",
       "    .dataframe thead th {\n",
       "        text-align: right;\n",
       "    }\n",
       "</style>\n",
       "<table border=\"1\" class=\"dataframe\">\n",
       "  <thead>\n",
       "    <tr style=\"text-align: right;\">\n",
       "      <th></th>\n",
       "      <th>86400</th>\n",
       "      <th>864000</th>\n",
       "      <th>8640000</th>\n",
       "      <th>31536000</th>\n",
       "      <th>315360000</th>\n",
       "    </tr>\n",
       "  </thead>\n",
       "  <tbody>\n",
       "    <tr>\n",
       "      <th>822060</th>\n",
       "      <td>1.22417e-12</td>\n",
       "      <td>9.15683e-10</td>\n",
       "      <td>2.04934e-07</td>\n",
       "      <td>2.10281e-06</td>\n",
       "      <td>3.78023e-05</td>\n",
       "    </tr>\n",
       "    <tr>\n",
       "      <th>832090</th>\n",
       "      <td>2.77302e-02</td>\n",
       "      <td>2.77301e-02</td>\n",
       "      <td>2.77292e-02</td>\n",
       "      <td>2.77262e-02</td>\n",
       "      <td>2.76902e-02</td>\n",
       "    </tr>\n",
       "    <tr>\n",
       "      <th>832100</th>\n",
       "      <td>1.02607e-08</td>\n",
       "      <td>5.95153e-08</td>\n",
       "      <td>7.94390e-08</td>\n",
       "      <td>7.94308e-08</td>\n",
       "      <td>7.93275e-08</td>\n",
       "    </tr>\n",
       "    <tr>\n",
       "      <th>842100</th>\n",
       "      <td>7.24639e-10</td>\n",
       "      <td>4.94348e-08</td>\n",
       "      <td>8.14265e-07</td>\n",
       "      <td>1.82757e-06</td>\n",
       "      <td>2.19050e-06</td>\n",
       "    </tr>\n",
       "  </tbody>\n",
       "</table>\n",
       "</div>"
      ],
      "text/plain": [
       "         86400       864000      8640000     31536000    315360000\n",
       "822060 1.22417e-12 9.15683e-10 2.04934e-07 2.10281e-06 3.78023e-05\n",
       "832090 2.77302e-02 2.77301e-02 2.77292e-02 2.77262e-02 2.76902e-02\n",
       "832100 1.02607e-08 5.95153e-08 7.94390e-08 7.94308e-08 7.93275e-08\n",
       "842100 7.24639e-10 4.94348e-08 8.14265e-07 1.82757e-06 2.19050e-06"
      ]
     },
     "execution_count": 20,
     "metadata": {},
     "output_type": "execute_result"
    }
   ],
   "source": [
    "n"
   ]
  },
  {
   "cell_type": "markdown",
   "metadata": {},
   "source": [
    "Let's compare the output with the analytical solution."
   ]
  },
  {
   "cell_type": "code",
   "execution_count": 21,
   "metadata": {},
   "outputs": [],
   "source": [
    "analytical_solution_po210 = pd.Series([7.24639E-10,\n",
    "           4.94348E-08,\n",
    "           8.14265E-07,\n",
    "           1.82757E-06,\n",
    "           2.1905E-06], index=time)"
   ]
  },
  {
   "cell_type": "markdown",
   "metadata": {},
   "source": [
    "Results are given in percent."
   ]
  },
  {
   "cell_type": "code",
   "execution_count": 22,
   "metadata": {},
   "outputs": [
    {
     "data": {
      "text/plain": [
       "86400        1.69518e-05\n",
       "864000       3.72023e-05\n",
       "8640000     -3.50622e-05\n",
       "31536000     1.58929e-04\n",
       "315360000   -4.63462e-06\n",
       "dtype: float64"
      ]
     },
     "execution_count": 22,
     "metadata": {},
     "output_type": "execute_result"
    }
   ],
   "source": [
    "(n.T[842100] / analytical_solution_po210 - 1) * 100"
   ]
  }
 ],
 "metadata": {
  "kernelspec": {
   "display_name": "Python3 (aleph-devel)",
   "language": "python",
   "name": "aleph-devel"
  },
  "language_info": {
   "codemirror_mode": {
    "name": "ipython",
    "version": 3
   },
   "file_extension": ".py",
   "mimetype": "text/x-python",
   "name": "python",
   "nbconvert_exporter": "python",
   "pygments_lexer": "ipython3",
   "version": "3.7.8"
  }
 },
 "nbformat": 4,
 "nbformat_minor": 2
}
